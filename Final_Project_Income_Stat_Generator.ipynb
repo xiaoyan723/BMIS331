{
  "nbformat": 4,
  "nbformat_minor": 0,
  "metadata": {
    "colab": {
      "provenance": []
    },
    "kernelspec": {
      "name": "python3",
      "display_name": "Python 3"
    },
    "language_info": {
      "name": "python"
    }
  },
  "cells": [
    {
      "cell_type": "markdown",
      "source": [
        "Automated Income Statement Generator"
      ],
      "metadata": {
        "id": "XMug-wMgwqf7"
      }
    },
    {
      "cell_type": "code",
      "source": [
        "# enter target\n",
        "def target():\n",
        "  target_profit = float(input(\"Enter your target profit for the fiscal year/month: \"))\n",
        "  if target_profit < 0:\n",
        "      raise ValueError(\"Values cannot be negative\")\n",
        "  return target_profit\n",
        "\n",
        "target_profit = target()"
      ],
      "metadata": {
        "colab": {
          "base_uri": "https://localhost:8080/"
        },
        "id": "TPDeyONpyW0_",
        "outputId": "e47c029c-754e-4d53-a1ae-16bae72d281e"
      },
      "execution_count": null,
      "outputs": [
        {
          "name": "stdout",
          "output_type": "stream",
          "text": [
            "Enter your target profit for the fiscal year/month: 1000\n"
          ]
        }
      ]
    },
    {
      "cell_type": "code",
      "source": [
        "# calculate revenues\n",
        "def get_revenues():\n",
        "    revenue_categories = {}\n",
        "    total_revenues = 0\n",
        "\n",
        "    # Loop to input revenues until the user decides to stop\n",
        "    while True:\n",
        "        revenue_input = input(\"Enter revenue amount (type 'stop' to finish): \")\n",
        "        if revenue_input.lower() == \"stop\":\n",
        "            break\n",
        "        revenue = float(revenue_input)\n",
        "\n",
        "        # Check if the revenue amount is negative\n",
        "        if revenue < 0:\n",
        "            print(\"Revenue cannot be negative. Please enter a valid amount.\")\n",
        "            continue\n",
        "\n",
        "        category = input(\"Enter category for this revenue: \")\n",
        "        # Update the expense categories dictionary with the new expense amount\n",
        "        if category in revenue_categories:\n",
        "            revenue_categories[category] += revenue\n",
        "        else:\n",
        "            revenue_categories[category] = revenue\n",
        "        total_revenues += revenue\n",
        "\n",
        "    # Create a dictionary to store revenue statistics\n",
        "    revenue_stat = {}\n",
        "    revenue_stat[\"revenue_categories\"] = revenue_categories\n",
        "    revenue_stat[\"total_revenues\"] = total_revenues\n",
        "\n",
        "    # Print the revenue report\n",
        "    print(\"\\nRevenues:\")\n",
        "    print(f\"{'Category':<20} {'Revenue ($)':>10}\")\n",
        "    print(\"-\" * 30)\n",
        "    for category, revenue in revenue_categories.items():\n",
        "        print(f\"{category:<20} ${revenue:>10.2f}\")\n",
        "    print(\"-\" * 30)\n",
        "    print(f\"{'Total':<20} ${total_revenues:>10.2f}\")\n",
        "    return revenue_stat\n",
        "\n",
        "revenue_stat = get_revenues()"
      ],
      "metadata": {
        "colab": {
          "base_uri": "https://localhost:8080/"
        },
        "id": "KA7KvMkuQy2B",
        "outputId": "ca496a19-a0d9-4dc1-de63-0f8abdba611c"
      },
      "execution_count": null,
      "outputs": [
        {
          "output_type": "stream",
          "name": "stdout",
          "text": [
            "Enter revenue amount (type 'stop' to finish): 1000\n",
            "Enter category for this revenue: sales revenue\n",
            "Enter revenue amount (type 'stop' to finish): stop\n",
            "\n",
            "Revenues:\n",
            "Category             Revenue ($)\n",
            "------------------------------\n",
            "sales revenue        $   1000.00\n",
            "------------------------------\n",
            "Total                $   1000.00\n"
          ]
        }
      ]
    },
    {
      "cell_type": "code",
      "source": [
        "# calculate expenses\n",
        "def get_expenses():\n",
        "    expense_categories = {}\n",
        "    total_expenses = 0\n",
        "\n",
        "    # Loop to input expenses until the user decides to stop\n",
        "    while True:\n",
        "        expense_input = input(\"Enter expense amount (type 'stop' to finish): \")\n",
        "        if expense_input.lower() == \"stop\":\n",
        "            break\n",
        "        expense = float(expense_input)\n",
        "\n",
        "        # Check if the expense amount is negative\n",
        "        if expense < 0:\n",
        "            print(\"Expense cannot be negative. Please enter a valid amount.\")\n",
        "            continue\n",
        "\n",
        "        category = input(\"Enter category for this expense: \")\n",
        "        # Update the expense categories dictionary with the new expense amount\n",
        "        if category in expense_categories:\n",
        "            expense_categories[category] += expense\n",
        "        else:\n",
        "            expense_categories[category] = expense\n",
        "        total_expenses += expense\n",
        "\n",
        "    # Create a dictionary to store expense statistics\n",
        "    expense_stat = {}\n",
        "    expense_stat[\"expense_categories\"] = expense_categories\n",
        "    expense_stat[\"total_expenses\"] = total_expenses\n",
        "\n",
        "    # Print the expense report\n",
        "    print(\"\\nExpenses:\")\n",
        "    print(f\"{'Category':<20} {'Expense ($)':>10}\")\n",
        "    print(\"-\" * 30)\n",
        "    for category, expense in expense_categories.items():\n",
        "        print(f\"{category:<20} ${expense:>10.2f}\")\n",
        "    print(\"-\" * 30)\n",
        "    print(f\"{'Total':<20} ${total_expenses:>10.2f}\")\n",
        "    return expense_stat\n",
        "\n",
        "expense_stat = get_expenses()"
      ],
      "metadata": {
        "colab": {
          "base_uri": "https://localhost:8080/"
        },
        "id": "d_8T8nZb5C6T",
        "outputId": "2cda74a3-0811-46ee-ecdc-124426e1801d"
      },
      "execution_count": null,
      "outputs": [
        {
          "output_type": "stream",
          "name": "stdout",
          "text": [
            "Enter expense amount (type 'stop' to finish): 200\n",
            "Enter category for this expense: salary\n",
            "Enter expense amount (type 'stop' to finish): stop\n",
            "\n",
            "Expenses:\n",
            "Category             Expense ($)\n",
            "------------------------------\n",
            "salary               $    200.00\n",
            "------------------------------\n",
            "Total                $    200.00\n"
          ]
        }
      ]
    },
    {
      "cell_type": "code",
      "source": [
        "11# Calculate net income\n",
        "total_revenues = revenue_stat[\"total_revenues\"]\n",
        "total_expenses = expense_stat[\"total_expenses\"]\n",
        "net_income = (total_revenues - total_expenses) * (1 - tax_rate / 100)\n",
        "\n",
        "# Check if the company meets its target profit\n",
        "if net_income >= target_profit:\n",
        "    target_status = \"Congratulations! The company has met its target profit.\"\n",
        "else:\n",
        "    target_status = \"The company has not met its target profit.\"\n",
        "\n",
        "# Get additional inputs\n",
        "company_name = input(\"Enter Company Name: \")\n",
        "date = input(\"Enter Date (e.g., December 31, 2023): \")\n",
        "tax_rate = float(input(\"Enter Tax Rate (in percentage): \"))\n",
        "\n",
        "# Format the company name and date\n",
        "company_name_formatted = f\"{company_name.upper():^80}\"\n",
        "date_formatted = f\"For the year ended {date:^80}\"\n",
        "\n",
        "# Lines for clarity\n",
        "line = '-' * 80\n",
        "section_line = '=' * 80\n",
        "\n",
        "# Revenue section\n",
        "revenue_section = \"\\nRevenues\\n\\n\"\n",
        "for category, amount in revenue_stat[\"revenue_categories\"].items():\n",
        "    revenue_section += f\"{category:<50}${amount:>20.2f}\\n\"\n",
        "revenue_section += f\"\\nTotal Revenues: {total_revenues:>68.2f}\\n\"\n",
        "\n",
        "# Expense section\n",
        "expense_section = \"\\nExpenses\\n\\n\"\n",
        "for category, amount in expense_stat[\"expense_categories\"].items():\n",
        "    expense_section += f\"{category:<50}${amount:>20.2f}\\n\"\n",
        "expense_section += f\"\\nTotal Expenses: {total_expenses:>66.2f}\\n\"\n",
        "\n",
        "# Operating income\n",
        "operating_income = total_revenues - total_expenses\n",
        "operating_income_formatted = f\"Operating Income: {operating_income:>62.2f}\\n\"\n",
        "\n",
        "# Income tax expense\n",
        "income_tax_expense = f\"Income Tax Expense ({tax_rate}%): {operating_income * (tax_rate / 100):>46.2f}\\n\"\n",
        "\n",
        "# Net income\n",
        "net_income_formatted = f\"Net Income: {net_income:>74.2f}\\n\"\n",
        "\n",
        "# Target status\n",
        "target_status_formatted = f\"Target Status: {target_status:^80}\\n\"\n",
        "\n",
        "# Construct the income statement\n",
        "income_statement = f\"{company_name_formatted}\\n\\nIncome Statement\\n\\n{date_formatted}\\n\\n{section_line}\\n\\n\"\n",
        "income_statement += f\"{revenue_section}\\n{section_line}\\n\\n{expense_section}\\n{section_line}\\n\\n{operating_income_formatted}\\n{income_tax_expense}\\n{net_income_formatted}\\n{line}\\n\\n{target_status_formatted}\"\n",
        "\n",
        "print(income_statement)"
      ],
      "metadata": {
        "colab": {
          "base_uri": "https://localhost:8080/"
        },
        "id": "ZCGxT6474i2I",
        "outputId": "3da74383-d6c0-47ee-f2d9-72ebfcbab11e"
      },
      "execution_count": null,
      "outputs": [
        {
          "output_type": "stream",
          "name": "stdout",
          "text": [
            "Enter Company Name: bmis\n",
            "Enter Date (e.g., December 31, 2023): december 31, 2024\n",
            "Enter Tax Rate (in percentage): 21\n",
            "                                      BMIS                                      \n",
            "\n",
            "Income Statement\n",
            "\n",
            "For the year ended                                december 31, 2024                                \n",
            "\n",
            "================================================================================\n",
            "\n",
            "\n",
            "Revenues\n",
            "\n",
            "sales revenue                                     $             1000.00\n",
            "\n",
            "Total Revenues:                                                              1000.00\n",
            "\n",
            "================================================================================\n",
            "\n",
            "\n",
            "Expenses\n",
            "\n",
            "salary                                            $              200.00\n",
            "\n",
            "Total Expenses:                                                             200.00\n",
            "\n",
            "================================================================================\n",
            "\n",
            "Operating Income:                                                         800.00\n",
            "\n",
            "Income Tax Expense (21.0%):                                         168.00\n",
            "\n",
            "Net Income:                                                                     632.00\n",
            "\n",
            "--------------------------------------------------------------------------------\n",
            "\n",
            "Target Status:                    The company has not met its target profit.                   \n",
            "\n"
          ]
        }
      ]
    }
  ]
}